{
 "cells": [
  {
   "cell_type": "code",
   "execution_count": 2,
   "id": "8fdd2814",
   "metadata": {},
   "outputs": [
    {
     "data": {
      "text/html": [
       "<div>\n",
       "<style scoped>\n",
       "    .dataframe tbody tr th:only-of-type {\n",
       "        vertical-align: middle;\n",
       "    }\n",
       "\n",
       "    .dataframe tbody tr th {\n",
       "        vertical-align: top;\n",
       "    }\n",
       "\n",
       "    .dataframe thead th {\n",
       "        text-align: right;\n",
       "    }\n",
       "</style>\n",
       "<table border=\"1\" class=\"dataframe\">\n",
       "  <thead>\n",
       "    <tr style=\"text-align: right;\">\n",
       "      <th>product</th>\n",
       "      <th>PICNIC_BASKET2</th>\n",
       "      <th>fair_value</th>\n",
       "      <th>diff</th>\n",
       "    </tr>\n",
       "    <tr>\n",
       "      <th>timestamp</th>\n",
       "      <th></th>\n",
       "      <th></th>\n",
       "      <th></th>\n",
       "    </tr>\n",
       "  </thead>\n",
       "  <tbody>\n",
       "    <tr>\n",
       "      <th>0</th>\n",
       "      <td>NaN</td>\n",
       "      <td>29980.0</td>\n",
       "      <td>NaN</td>\n",
       "    </tr>\n",
       "    <tr>\n",
       "      <th>200</th>\n",
       "      <td>NaN</td>\n",
       "      <td>30029.0</td>\n",
       "      <td>NaN</td>\n",
       "    </tr>\n",
       "    <tr>\n",
       "      <th>300</th>\n",
       "      <td>NaN</td>\n",
       "      <td>30234.0</td>\n",
       "      <td>NaN</td>\n",
       "    </tr>\n",
       "    <tr>\n",
       "      <th>400</th>\n",
       "      <td>NaN</td>\n",
       "      <td>NaN</td>\n",
       "      <td>NaN</td>\n",
       "    </tr>\n",
       "    <tr>\n",
       "      <th>500</th>\n",
       "      <td>NaN</td>\n",
       "      <td>NaN</td>\n",
       "      <td>NaN</td>\n",
       "    </tr>\n",
       "  </tbody>\n",
       "</table>\n",
       "</div>"
      ],
      "text/plain": [
       "product    PICNIC_BASKET2  fair_value  diff\n",
       "timestamp                                  \n",
       "0                     NaN     29980.0   NaN\n",
       "200                   NaN     30029.0   NaN\n",
       "300                   NaN     30234.0   NaN\n",
       "400                   NaN         NaN   NaN\n",
       "500                   NaN         NaN   NaN"
      ]
     },
     "execution_count": 2,
     "metadata": {},
     "output_type": "execute_result"
    }
   ],
   "source": [
    "\n",
    "import pandas as pd\n",
    "import numpy as np\n",
    "\n",
    "paths = [\n",
    "    'trades_round_5_day_2.csv',\n",
    "    'trades_round_5_day_3.csv',\n",
    "    'trades_round_5_day_4.csv'\n",
    "]\n",
    "dfs = [pd.read_csv(p, sep=';') for p in paths]\n",
    "trades = pd.concat(dfs)\n",
    "trades.columns = ['timestamp', 'buyer', 'seller', 'product', 'currency', 'price', 'quantity']\n",
    "trades['timestamp'] = trades['timestamp'].astype(int)\n",
    "trades['price'] = trades['price'].astype(float)\n",
    "trades['quantity'] = trades['quantity'].astype(int)\n",
    "\n",
    "components = [\"CROISSANTS\", \"JAMS\", \"DJEMBES\", \"PICNIC_BASKET1\", \"PICNIC_BASKET2\"]\n",
    "relevant = trades[trades['product'].isin(components)]\n",
    "\n",
    "grouped = relevant.groupby(['timestamp', 'product'])['price'].mean().unstack()\n",
    "# grouped['fair_value'] = 6 * grouped['CROISSANTS'] + 3 * grouped['JAMS'] + grouped['DJEMBES']\n",
    "# grouped['diff'] = grouped['PICNIC_BASKET1'] - grouped['fair_value']\n",
    "\n",
    "# grouped[['PICNIC_BASKET1', 'fair_value', 'diff']].head()\n",
    "\n",
    "grouped['fair_value'] = 4 * grouped['CROISSANTS'] + 2 * grouped['JAMS']\n",
    "grouped['diff'] = grouped['PICNIC_BASKET2'] - grouped['fair_value']\n",
    "\n",
    "grouped[['PICNIC_BASKET2', 'fair_value', 'diff']].head()\n"
   ]
  },
  {
   "cell_type": "code",
   "execution_count": 7,
   "id": "e1720620",
   "metadata": {},
   "outputs": [
    {
     "name": "stdout",
     "output_type": "stream",
     "text": [
      "Recommended LONG threshold (10th percentile): 51.00\n",
      "Recommended SHORT threshold (90th percentile): 127.00\n"
     ]
    }
   ],
   "source": [
    "# Recommend thresholds based on quantiles\n",
    "low_thres = grouped['diff'].quantile(0.4)\n",
    "high_thres = grouped['diff'].quantile(0.6)\n",
    "print(f\"Recommended LONG threshold (10th percentile): {low_thres:.2f}\")\n",
    "print(f\"Recommended SHORT threshold (90th percentile): {high_thres:.2f}\")\n"
   ]
  }
 ],
 "metadata": {
  "kernelspec": {
   "display_name": "Python 3",
   "language": "python",
   "name": "python3"
  },
  "language_info": {
   "codemirror_mode": {
    "name": "ipython",
    "version": 3
   },
   "file_extension": ".py",
   "mimetype": "text/x-python",
   "name": "python",
   "nbconvert_exporter": "python",
   "pygments_lexer": "ipython3",
   "version": "3.10.13"
  }
 },
 "nbformat": 4,
 "nbformat_minor": 5
}
